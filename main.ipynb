{
 "cells": [
  {
   "metadata": {
    "ExecuteTime": {
     "end_time": "2024-04-23T01:54:49.760989Z",
     "start_time": "2024-04-23T01:54:49.758219Z"
    }
   },
   "cell_type": "code",
   "source": [
    "import pandas as pd\n",
    "import numpy as np\n",
    "from sklearn.model_selection import KFold\n",
    "from sklearn.linear_model import Ridge\n",
    "from sklearn.feature_extraction.text import TfidfTransformer\n",
    "from sklearn.preprocessing import StandardScaler\n",
    "from sklearn.decomposition import PCA\n",
    "from sklearn.metrics import mean_squared_error\n",
    "from math import sqrt"
   ],
   "id": "1081e9566b2b7c6b",
   "outputs": [],
   "execution_count": 34
  },
  {
   "metadata": {
    "ExecuteTime": {
     "end_time": "2024-04-23T01:54:50.850260Z",
     "start_time": "2024-04-23T01:54:50.819127Z"
    }
   },
   "cell_type": "code",
   "source": [
    "# Load user data\n",
    "u_cols = ['user_id', 'age', 'sex', 'occupation', 'zip_code']\n",
    "users = pd.read_csv('ml-100k/u.user', sep='|', names=u_cols, encoding='latin-1')\n",
    "\n",
    "# Load ratings data\n",
    "r_cols = ['user_id', 'movie_id', 'rating', 'unix_timestamp']\n",
    "ratings = pd.read_csv('ml-100k/u.data', sep='\\t', names=r_cols, encoding='latin-1')\n",
    "\n",
    "# Load items data\n",
    "i_cols = ['movie_id', 'movie_title', 'release_date', 'video_release_date', 'IMDb_URL', 'unknown',\n",
    "          'Action', 'Adventure',\n",
    "          'Animation', \"Children's\", 'Comedy', 'Crime', 'Documentary', 'Drama', 'Fantasy',\n",
    "          'Film-Noir', 'Horror', 'Musical', 'Mystery', 'Romance', 'Sci-Fi', 'Thriller', 'War',\n",
    "          'Western']\n",
    "items = pd.read_csv('ml-100k/u.item', sep='|', names=i_cols, encoding='latin-1', usecols=range(24))"
   ],
   "id": "6c603a262f4debcb",
   "outputs": [],
   "execution_count": 35
  },
  {
   "metadata": {
    "ExecuteTime": {
     "end_time": "2024-04-23T01:54:51.252180Z",
     "start_time": "2024-04-23T01:54:51.248632Z"
    }
   },
   "cell_type": "code",
   "source": [
    "# Preprocess item data - TF-IDF on genres\n",
    "transformer = TfidfTransformer(smooth_idf=True, norm='l2')\n",
    "tfidf = transformer.fit_transform(items.iloc[:, 5:].values).toarray()\n",
    "\n",
    "# Dimension reduction (uncomment to use PCA)\n",
    "# pca = PCA(n_components=12)  # Adjust components based on explained variance ratio\n",
    "# tfidf = pca.fit_transform(tfidf)"
   ],
   "id": "6ec87bf68421334d",
   "outputs": [],
   "execution_count": 36
  },
  {
   "metadata": {
    "ExecuteTime": {
     "end_time": "2024-04-23T01:54:53.144568Z",
     "start_time": "2024-04-23T01:54:53.117734Z"
    }
   },
   "cell_type": "code",
   "source": [
    "# Merge ratings with user and item data for more features\n",
    "data = ratings.join(users.set_index('user_id'), on='user_id')\n",
    "data = data.join(items.set_index('movie_id'), on='movie_id')\n",
    "\n",
    "# Normalize ratings\n",
    "scaler = StandardScaler()\n",
    "data['normalized_rating'] = scaler.fit_transform(data['rating'].values.reshape(-1, 1))\n",
    "\n",
    "# Setup cross-validation\n",
    "kf = KFold(n_splits=5, shuffle=True, random_state=42)\n",
    "rmse_scores = []"
   ],
   "id": "909213a67e41c659",
   "outputs": [],
   "execution_count": 37
  },
  {
   "metadata": {
    "ExecuteTime": {
     "end_time": "2024-04-23T01:55:01.730209Z",
     "start_time": "2024-04-23T01:55:01.614673Z"
    }
   },
   "cell_type": "code",
   "source": [
    "for train_index, test_index in kf.split(data):\n",
    "    train_data, test_data = data.iloc[train_index], data.iloc[test_index]\n",
    "\n",
    "    # Train the model\n",
    "    clf = Ridge(alpha=0.01)\n",
    "    clf.fit(tfidf[train_data['movie_id'].values - 1],\n",
    "            train_data['normalized_rating'].values)\n",
    "\n",
    "    # Predict on test set\n",
    "    preds = clf.predict(tfidf[test_data['movie_id'].values - 1])\n",
    "\n",
    "    # Reverse normalization for true ratings and calculate RMSE\n",
    "    preds_denorm = scaler.inverse_transform(preds.reshape(-1, 1))\n",
    "    rmse = sqrt(mean_squared_error(test_data['rating'], preds_denorm))\n",
    "    rmse_scores.append(rmse)\n",
    "\n",
    "\n"
   ],
   "id": "241576957ac0a8",
   "outputs": [],
   "execution_count": 38
  },
  {
   "metadata": {
    "ExecuteTime": {
     "end_time": "2024-04-23T01:55:03.584894Z",
     "start_time": "2024-04-23T01:55:03.582212Z"
    }
   },
   "cell_type": "code",
   "source": [
    "# Report results\n",
    "print(f\"Mean RMSE: {np.mean(rmse_scores):.3f} ± {np.std(rmse_scores):.3f}\")"
   ],
   "id": "af1e934226c13967",
   "outputs": [
    {
     "name": "stdout",
     "output_type": "stream",
     "text": [
      "Mean RMSE: 1.108 ± 0.005\n"
     ]
    }
   ],
   "execution_count": 39
  },
  {
   "metadata": {},
   "cell_type": "code",
   "outputs": [],
   "execution_count": null,
   "source": "",
   "id": "13bc87ab62c9db1"
  }
 ],
 "metadata": {
  "kernelspec": {
   "display_name": "Python 3",
   "language": "python",
   "name": "python3"
  },
  "language_info": {
   "codemirror_mode": {
    "name": "ipython",
    "version": 2
   },
   "file_extension": ".py",
   "mimetype": "text/x-python",
   "name": "python",
   "nbconvert_exporter": "python",
   "pygments_lexer": "ipython2",
   "version": "2.7.6"
  }
 },
 "nbformat": 4,
 "nbformat_minor": 5
}
