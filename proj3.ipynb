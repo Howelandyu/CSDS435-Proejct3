{
 "cells": [
  {
   "cell_type": "code",
   "execution_count": 8,
   "id": "849de1e9-71c3-43cb-9915-f258d5f64f2f",
   "metadata": {},
   "outputs": [
    {
     "name": "stdout",
     "output_type": "stream",
     "text": [
      "Mean RMSE: 1.108 ± 0.005\n",
      "Accuracy (within 0.5 of true rating): 0.335 ± 0.003\n"
     ]
    }
   ],
   "source": [
    "import pandas as pd\n",
    "import numpy as np\n",
    "from sklearn.model_selection import KFold\n",
    "from sklearn.linear_model import Ridge\n",
    "from sklearn.feature_extraction.text import TfidfTransformer\n",
    "from sklearn.preprocessing import StandardScaler\n",
    "from sklearn.metrics import mean_squared_error\n",
    "from math import sqrt\n",
    "\n",
    "# Load user data\n",
    "u_cols = ['user_id', 'age', 'sex', 'occupation', 'zip_code']\n",
    "users = pd.read_csv('ml-100k/u.user', sep='|', names=u_cols, encoding='latin-1')\n",
    "\n",
    "# Load ratings data\n",
    "r_cols = ['user_id', 'movie_id', 'rating', 'unix_timestamp']\n",
    "ratings = pd.read_csv('ml-100k/u.data', sep='\\t', names=r_cols, encoding='latin-1')\n",
    "\n",
    "# Load items data\n",
    "i_cols = ['movie_id', 'movie_title', 'release_date', 'video_release_date',\n",
    "          'IMDb_URL', 'unknown', 'Action', 'Adventure', 'Animation', \"Children's\",\n",
    "          'Comedy', 'Crime', 'Documentary', 'Drama', 'Fantasy', 'Film-Noir', 'Horror',\n",
    "          'Musical', 'Mystery', 'Romance', 'Sci-Fi', 'Thriller', 'War', 'Western']\n",
    "items = pd.read_csv('ml-100k/u.item', sep='|', names=i_cols, encoding='latin-1', usecols=range(24))\n",
    "\n",
    "# Preprocess item data - TF-IDF on genres\n",
    "transformer = TfidfTransformer(smooth_idf=True, norm='l2')\n",
    "tfidf = transformer.fit_transform(items.iloc[:, 5:].fillna(0)).toarray()\n",
    "\n",
    "# Merge ratings with user and item data for more features\n",
    "data = ratings.join(users.set_index('user_id'), on='user_id')\n",
    "data = data.join(items.set_index('movie_id'), on='movie_id')\n",
    "\n",
    "# Normalize ratings\n",
    "scaler = StandardScaler()\n",
    "data['normalized_rating'] = scaler.fit_transform(data[['rating']])\n",
    "\n",
    "# Setup cross-validation\n",
    "kf = KFold(n_splits=5, shuffle=True, random_state=42)\n",
    "rmse_scores = []\n",
    "accuracy_scores = []\n",
    "\n",
    "for train_index, test_index in kf.split(data):\n",
    "    train_data, test_data = data.iloc[train_index], data.iloc[test_index]\n",
    "\n",
    "    # Train the model\n",
    "    clf = Ridge(alpha=0.01)\n",
    "    clf.fit(tfidf[train_data['movie_id'] - 1], train_data['normalized_rating'])\n",
    "\n",
    "    # Predict on test set\n",
    "    preds = clf.predict(tfidf[test_data['movie_id'] - 1])\n",
    "\n",
    "    # Reverse normalization for true ratings and calculate RMSE\n",
    "    preds_denorm = scaler.inverse_transform(preds.reshape(-1, 1))\n",
    "    rmse = sqrt(mean_squared_error(test_data['rating'], preds_denorm))\n",
    "    rmse_scores.append(rmse)\n",
    "\n",
    "    # Calculate custom accuracy\n",
    "    accuracy = np.mean(np.abs(preds_denorm.ravel() - test_data['rating'].values) <= 0.5)\n",
    "    accuracy_scores.append(accuracy)\n",
    "\n",
    "mean_rmse = np.mean(rmse_scores)\n",
    "std_rmse = np.std(rmse_scores)\n",
    "mean_accuracy = np.mean(accuracy_scores)\n",
    "std_accuracy = np.std(accuracy_scores)\n",
    "\n",
    "print(f\"Mean RMSE: {mean_rmse:.3f} ± {std_rmse:.3f}\")\n",
    "print(f\"Accuracy (within 0.5 of true rating): {mean_accuracy:.3f} ± {std_accuracy:.3f}\")\n"
   ]
  },
  {
   "cell_type": "code",
   "execution_count": null,
   "id": "25b633d9-0772-4946-b7c8-7780eb6488d2",
   "metadata": {},
   "outputs": [],
   "source": []
  }
 ],
 "metadata": {
  "kernelspec": {
   "display_name": "Python 3 (ipykernel)",
   "language": "python",
   "name": "python3"
  },
  "language_info": {
   "codemirror_mode": {
    "name": "ipython",
    "version": 3
   },
   "file_extension": ".py",
   "mimetype": "text/x-python",
   "name": "python",
   "nbconvert_exporter": "python",
   "pygments_lexer": "ipython3",
   "version": "3.10.12"
  }
 },
 "nbformat": 4,
 "nbformat_minor": 5
}
