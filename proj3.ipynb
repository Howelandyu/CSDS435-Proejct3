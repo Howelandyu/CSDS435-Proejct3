{
 "cells": [
  {
   "cell_type": "code",
   "execution_count": 12,
   "id": "849de1e9-71c3-43cb-9915-f258d5f64f2f",
   "metadata": {},
   "outputs": [
    {
     "name": "stdout",
     "output_type": "stream",
     "text": [
      "Mean RMSE across 5 folds: 1.107 ± 0.015\n",
      "Accuracy (within 0.5 of true rating): 0.334 ± 0.004\n"
     ]
    }
   ],
   "source": [
    "import pandas as pd\n",
    "import numpy as np\n",
    "from sklearn.linear_model import Ridge\n",
    "from sklearn.feature_extraction.text import TfidfTransformer\n",
    "from sklearn.preprocessing import StandardScaler\n",
    "from sklearn.metrics import mean_squared_error\n",
    "from math import sqrt\n",
    "\n",
    "def load_data(filepath):\n",
    "    r_cols = ['user_id', 'movie_id', 'rating', 'unix_timestamp']\n",
    "    return pd.read_csv(filepath, sep='\\t', names=r_cols, encoding='latin-1')\n",
    "\n",
    "def load_item_data():\n",
    "    i_cols = ['movie_id', 'movie_title', 'release_date', 'video_release_date',\n",
    "              'IMDb_URL', 'unknown', 'Action', 'Adventure', 'Animation', \"Children's\",\n",
    "              'Comedy', 'Crime', 'Documentary', 'Drama', 'Fantasy', 'Film-Noir', 'Horror',\n",
    "              'Musical', 'Mystery', 'Romance', 'Sci-Fi', 'Thriller', 'War', 'Western']\n",
    "    items = pd.read_csv('ml-100k/u.item', sep='|', names=i_cols, encoding='latin-1', usecols=range(24))\n",
    "    tfidf_transformer = TfidfTransformer(smooth_idf=True)\n",
    "    genre_matrix = items.iloc[:, 5:].fillna(0)\n",
    "    tfidf_features = tfidf_transformer.fit_transform(genre_matrix).toarray()\n",
    "    return items, tfidf_features\n",
    "\n",
    "def main():\n",
    "    items, items_tfidf = load_item_data()\n",
    "    scaler = StandardScaler()\n",
    "\n",
    "    rmses = []\n",
    "    accuracies = []\n",
    "\n",
    "    # 5-fold cross-validation process\n",
    "    for k in range(1, 6):  # For each of the 5 folds\n",
    "        train_path = f'ml-100k/u{k}.base'  # Correct file name for training data\n",
    "        test_path = f'ml-100k/u{k}.test'  # Correct file name for test data\n",
    "        train_data = load_data(train_path)\n",
    "        test_data = load_data(test_path)\n",
    "\n",
    "        # Merge TF-IDF features from the item data\n",
    "        train_data = train_data.join(items.set_index('movie_id'), on='movie_id')\n",
    "        test_data = test_data.join(items.set_index('movie_id'), on='movie_id')\n",
    "\n",
    "        # Prepare features and targets\n",
    "        X_train = items_tfidf[train_data['movie_id'] - 1]\n",
    "        X_test = items_tfidf[test_data['movie_id'] - 1]\n",
    "        y_train = scaler.fit_transform(train_data[['rating']])\n",
    "        y_test = test_data['rating']\n",
    "\n",
    "        # Model training\n",
    "        model = Ridge(alpha=0.01)\n",
    "        model.fit(X_train, y_train.ravel())\n",
    "\n",
    "        # Predict and evaluate\n",
    "        preds = scaler.inverse_transform(model.predict(X_test).reshape(-1, 1))\n",
    "        rmse = sqrt(mean_squared_error(y_test, preds))\n",
    "        rmses.append(rmse)\n",
    "        accuracy = np.mean(np.abs(preds.ravel() - y_test) <= 0.5)\n",
    "        accuracies.append(accuracy)\n",
    "\n",
    "    # Output results\n",
    "    print(f\"Mean RMSE across 5 folds: {np.mean(rmses):.3f} ± {np.std(rmses):.3f}\")\n",
    "    print(f\"Accuracy (within 0.5 of true rating): {np.mean(accuracies):.3f} ± {np.std(accuracies):.3f}\")\n",
    "\n",
    "if __name__ == \"__main__\":\n",
    "    main()\n"
   ]
  },
  {
   "cell_type": "code",
   "execution_count": null,
   "id": "25b633d9-0772-4946-b7c8-7780eb6488d2",
   "metadata": {},
   "outputs": [],
   "source": []
  }
 ],
 "metadata": {
  "kernelspec": {
   "display_name": "Python 3 (ipykernel)",
   "language": "python",
   "name": "python3"
  },
  "language_info": {
   "codemirror_mode": {
    "name": "ipython",
    "version": 3
   },
   "file_extension": ".py",
   "mimetype": "text/x-python",
   "name": "python",
   "nbconvert_exporter": "python",
   "pygments_lexer": "ipython3",
   "version": "3.10.12"
  }
 },
 "nbformat": 4,
 "nbformat_minor": 5
}
